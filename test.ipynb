{
 "cells": [
  {
   "cell_type": "code",
   "execution_count": 14,
   "metadata": {},
   "outputs": [
    {
     "ename": "ImportError",
     "evalue": "cannot import name 'house_process' from 'utlis' (c:\\Users\\omar\\OneDrive\\سطح المكتب\\Egypt_Houses_price\\utlis.py)",
     "output_type": "error",
     "traceback": [
      "\u001b[1;31m---------------------------------------------------------------------------\u001b[0m",
      "\u001b[1;31mImportError\u001b[0m                               Traceback (most recent call last)",
      "Cell \u001b[1;32mIn[14], line 3\u001b[0m\n\u001b[0;32m      1\u001b[0m \u001b[38;5;28;01mimport\u001b[39;00m \u001b[38;5;21;01msys\u001b[39;00m\n\u001b[0;32m      2\u001b[0m sys\u001b[38;5;241m.\u001b[39mpath\u001b[38;5;241m.\u001b[39mappend(\u001b[38;5;124m\"\u001b[39m\u001b[38;5;124mC:/Users/omar/OneDrive/سطح المكتب/Egypt_Houses_price/utils.py\u001b[39m\u001b[38;5;124m\"\u001b[39m)\n\u001b[1;32m----> 3\u001b[0m \u001b[38;5;28;01mfrom\u001b[39;00m \u001b[38;5;21;01mutlis\u001b[39;00m \u001b[38;5;28;01mimport\u001b[39;00m house_process\n",
      "\u001b[1;31mImportError\u001b[0m: cannot import name 'house_process' from 'utlis' (c:\\Users\\omar\\OneDrive\\سطح المكتب\\Egypt_Houses_price\\utlis.py)"
     ]
    }
   ],
   "source": [
    "import sys\n",
    "sys.path.append(\"C:/Users/omar/OneDrive/سطح المكتب/Egypt_Houses_price/utils.py\")\n",
    "from utlis import house_process"
   ]
  },
  {
   "cell_type": "code",
   "execution_count": 15,
   "metadata": {},
   "outputs": [
    {
     "ename": "ImportError",
     "evalue": "cannot import name 'house_process' from 'utlis' (c:\\Users\\omar\\OneDrive\\سطح المكتب\\Egypt_Houses_price\\utlis.py)",
     "output_type": "error",
     "traceback": [
      "\u001b[1;31m---------------------------------------------------------------------------\u001b[0m",
      "\u001b[1;31mImportError\u001b[0m                               Traceback (most recent call last)",
      "Cell \u001b[1;32mIn[15], line 1\u001b[0m\n\u001b[1;32m----> 1\u001b[0m \u001b[38;5;28;01mfrom\u001b[39;00m \u001b[38;5;21;01mutlis\u001b[39;00m \u001b[38;5;28;01mimport\u001b[39;00m house_process\n",
      "\u001b[1;31mImportError\u001b[0m: cannot import name 'house_process' from 'utlis' (c:\\Users\\omar\\OneDrive\\سطح المكتب\\Egypt_Houses_price\\utlis.py)"
     ]
    }
   ],
   "source": [
    "from utlis import house_process"
   ]
  }
 ],
 "metadata": {
  "kernelspec": {
   "display_name": "leagues",
   "language": "python",
   "name": "python3"
  },
  "language_info": {
   "codemirror_mode": {
    "name": "ipython",
    "version": 3
   },
   "file_extension": ".py",
   "mimetype": "text/x-python",
   "name": "python",
   "nbconvert_exporter": "python",
   "pygments_lexer": "ipython3",
   "version": "3.10.9"
  }
 },
 "nbformat": 4,
 "nbformat_minor": 2
}
